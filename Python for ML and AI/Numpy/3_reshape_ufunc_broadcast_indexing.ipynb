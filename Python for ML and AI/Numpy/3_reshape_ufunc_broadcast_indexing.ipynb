{
 "cells": [
  {
   "cell_type": "markdown",
   "metadata": {},
   "source": [
    "In this notebook we will discuss the following:\n",
    "    \n",
    "Reshape\n",
    "\n",
    "Resize\n",
    "\n",
    "ravel\n",
    "\n",
    "flatten\n",
    "\n",
    "ufunc\n",
    "\n",
    "broadcast\n",
    "\n",
    "indexing"
   ]
  },
  {
   "cell_type": "code",
   "execution_count": 1,
   "metadata": {},
   "outputs": [],
   "source": [
    "import numpy as np"
   ]
  },
  {
   "cell_type": "code",
   "execution_count": 2,
   "metadata": {},
   "outputs": [
    {
     "name": "stdout",
     "output_type": "stream",
     "text": [
      "[ 0  1  2  3  4  5  6  7  8  9 10 11]\n",
      "1\n"
     ]
    }
   ],
   "source": [
    "# ndim will return number of ndarray dimensions\n",
    "a = np.arange(12)\n",
    "print(a) \n",
    "print(a.ndim)"
   ]
  },
  {
   "cell_type": "code",
   "execution_count": 3,
   "metadata": {},
   "outputs": [
    {
     "name": "stdout",
     "output_type": "stream",
     "text": [
      "[[ 2  5]\n",
      " [ 8 11]\n",
      " [ 4 17]]\n",
      "2\n"
     ]
    }
   ],
   "source": [
    "b = np.array([[2, 5], [8, 11], [4, 17]])\n",
    "print(b)\n",
    "print(b.ndim)"
   ]
  },
  {
   "cell_type": "code",
   "execution_count": 4,
   "metadata": {},
   "outputs": [
    {
     "data": {
      "text/plain": [
       "6"
      ]
     },
     "execution_count": 4,
     "metadata": {},
     "output_type": "execute_result"
    }
   ],
   "source": [
    "a = np.zeros((4, 5, 6, 7, 8, 9))\n",
    "a.ndim"
   ]
  },
  {
   "cell_type": "code",
   "execution_count": 5,
   "metadata": {},
   "outputs": [
    {
     "name": "stdout",
     "output_type": "stream",
     "text": [
      "[0 1 2 3 4 5 6 7]\n",
      "[[0 1 2 3]\n",
      " [4 5 6 7]]\n"
     ]
    }
   ],
   "source": [
    "# reshape() will reshape the array into the specified shape\n",
    "a = np.arange(8) # we are creating an array with value 0, 1,..., 7\n",
    "b = a.reshape((2, 4)) # Create a new array to size 2x4 \n",
    "print(a)\n",
    "print(b) \n",
    "\n",
    "# this works because 2*4 = 8 "
   ]
  },
  {
   "cell_type": "code",
   "execution_count": 30,
   "metadata": {},
   "outputs": [
    {
     "name": "stdout",
     "output_type": "stream",
     "text": [
      "[0 1 2 3 4 5 6 7 8 9]\n",
      "[[0 1 2 3 4]\n",
      " [5 6 7 8 9]]\n"
     ]
    }
   ],
   "source": [
    "a1 = np.arange(10)\n",
    "b1 = a1.reshape((2, 5)) # Create a new array to size 2x4 \n",
    "print(a1)\n",
    "print(b1) \n",
    "\n",
    "# this failed because 2*4 is not equal to 10"
   ]
  },
  {
   "cell_type": "code",
   "execution_count": 7,
   "metadata": {},
   "outputs": [
    {
     "name": "stdout",
     "output_type": "stream",
     "text": [
      "None\n",
      "[[0 1]\n",
      " [2 3]\n",
      " [4 5]\n",
      " [6 7]]\n"
     ]
    }
   ],
   "source": [
    "c = a.resize((4,2)) # Update memory at 'a' to become an array , c is empty, saves memory\n",
    "print(c) \n",
    "# the above line will return None as resize modifies inplace \n",
    "# while reshape creates a new array \n",
    "print(a)"
   ]
  },
  {
   "cell_type": "code",
   "execution_count": 8,
   "metadata": {},
   "outputs": [
    {
     "name": "stdout",
     "output_type": "stream",
     "text": [
      "[[0 1 2]\n",
      " [3 4 5]\n",
      " [6 7 8]]\n"
     ]
    }
   ],
   "source": [
    "b = np.arange(9)\n",
    "b.resize((3,3))\n",
    "print(b)"
   ]
  },
  {
   "cell_type": "code",
   "execution_count": 9,
   "metadata": {},
   "outputs": [
    {
     "name": "stdout",
     "output_type": "stream",
     "text": [
      "[0 1 2 3 4 5 6 7 8]\n"
     ]
    }
   ],
   "source": [
    "flat_b = b.flatten()\n",
    "print(flat_b)\n",
    "# since flat_b is a new copy, any change to flat_b does not affect b"
   ]
  },
  {
   "cell_type": "code",
   "execution_count": 10,
   "metadata": {},
   "outputs": [
    {
     "name": "stdout",
     "output_type": "stream",
     "text": [
      "flat_b:\n",
      "[-100    1    2    3    4    5    6    7    8]\n",
      "b:\n",
      "[[0 1 2]\n",
      " [3 4 5]\n",
      " [6 7 8]]\n"
     ]
    }
   ],
   "source": [
    "flat_b[0] = -100\n",
    "print('flat_b:')\n",
    "print(flat_b)\n",
    "print('b:')\n",
    "print(b)"
   ]
  },
  {
   "cell_type": "code",
   "execution_count": 11,
   "metadata": {},
   "outputs": [
    {
     "name": "stdout",
     "output_type": "stream",
     "text": [
      "[0 1 2 3 4 5 6 7 8]\n"
     ]
    }
   ],
   "source": [
    "ravel_b = b.ravel()\n",
    "print(ravel_b)\n",
    "# ravel_b is not a copy, any change to ravel_b affects b "
   ]
  },
  {
   "cell_type": "code",
   "execution_count": 12,
   "metadata": {},
   "outputs": [
    {
     "name": "stdout",
     "output_type": "stream",
     "text": [
      "[10  1  2  3  4  5  6  7  8]\n",
      "[[10  1  2]\n",
      " [ 3  4  5]\n",
      " [ 6  7  8]]\n"
     ]
    }
   ],
   "source": [
    "ravel_b[0] = 10\n",
    "print(ravel_b)\n",
    "print(b)\n",
    "# ravel_b is not a copy, any change to ravel_b affects b "
   ]
  },
  {
   "cell_type": "code",
   "execution_count": 13,
   "metadata": {},
   "outputs": [],
   "source": [
    "# for a 2 dimensional array, we have to do double indexing\n",
    "# b[0][0] will represent the first value in the first row\n",
    "# b[0][1] will be the second value in the first row\n",
    "# b[0][2] will be the third value in the first row\n",
    "# b[2][1] = 7"
   ]
  },
  {
   "cell_type": "code",
   "execution_count": 14,
   "metadata": {},
   "outputs": [
    {
     "name": "stdout",
     "output_type": "stream",
     "text": [
      "[[0 1]\n",
      " [2 3]\n",
      " [4 5]\n",
      " [6 7]]\n"
     ]
    }
   ],
   "source": [
    "print(a)"
   ]
  },
  {
   "cell_type": "code",
   "execution_count": 15,
   "metadata": {},
   "outputs": [
    {
     "name": "stdout",
     "output_type": "stream",
     "text": [
      "[[-4  1]\n",
      " [ 2  3]\n",
      " [ 4  5]\n",
      " [ 6  7]]\n",
      "[[-4  1]\n",
      " [ 2  3]\n",
      " [ 4  5]\n",
      " [ 6  7]]\n"
     ]
    }
   ],
   "source": [
    "# good time to talk about shallow copy vs deep copy\n",
    "\n",
    "# shallow copy\n",
    "d = a\n",
    "a[0][0] = -4\n",
    "print(a)\n",
    "print(d)\n",
    "# note that d and a will have same values even though we modified only a"
   ]
  },
  {
   "cell_type": "code",
   "execution_count": 16,
   "metadata": {},
   "outputs": [
    {
     "name": "stdout",
     "output_type": "stream",
     "text": [
      "[[3 1]\n",
      " [2 3]\n",
      " [4 5]\n",
      " [6 7]]\n",
      "[[-4  1]\n",
      " [ 2  3]\n",
      " [ 4  5]\n",
      " [ 6  7]]\n"
     ]
    }
   ],
   "source": [
    "# Deep copy\n",
    "e = a.copy()\n",
    "a[0][0] = 3\n",
    "print(a)\n",
    "print(e)\n",
    "# note that e and a will have different values"
   ]
  },
  {
   "cell_type": "code",
   "execution_count": 17,
   "metadata": {},
   "outputs": [
    {
     "data": {
      "text/plain": [
       "'\\nIn-class activity - create an ndarray using arange that starts at 0 and stops \\nat 12 in increments of 3. Then reshape the array to 2,2 then ravel the array. \\nAt each step, print the output.\\n'"
      ]
     },
     "execution_count": 17,
     "metadata": {},
     "output_type": "execute_result"
    }
   ],
   "source": [
    "\"\"\"\n",
    "In-class activity - create an ndarray using arange that starts at 0 and stops \n",
    "at 12 in increments of 3. Then reshape the array to 2,2 then ravel the array. \n",
    "At each step, print the output.\n",
    "\"\"\""
   ]
  },
  {
   "cell_type": "code",
   "execution_count": null,
   "metadata": {},
   "outputs": [],
   "source": []
  },
  {
   "cell_type": "code",
   "execution_count": null,
   "metadata": {},
   "outputs": [],
   "source": []
  },
  {
   "cell_type": "markdown",
   "metadata": {},
   "source": [
    "## List of ufuncs short for universal functions in numpy\n",
    "\n",
    "https://docs.scipy.org/doc/numpy/reference/ufuncs.html"
   ]
  },
  {
   "cell_type": "code",
   "execution_count": 18,
   "metadata": {},
   "outputs": [
    {
     "name": "stdout",
     "output_type": "stream",
     "text": [
      "[0.  0.1 0.2 0.3 0.4 0.5 0.6 0.7 0.8 0.9]\n",
      "[0.         0.09983342 0.19866933 0.29552021 0.38941834 0.47942554\n",
      " 0.56464247 0.64421769 0.71735609 0.78332691]\n",
      "[1.         0.99500417 0.98006658 0.95533649 0.92106099 0.87758256\n",
      " 0.82533561 0.76484219 0.69670671 0.62160997]\n"
     ]
    }
   ],
   "source": [
    "# Universal functions are called ufunc \n",
    "\n",
    "a = np.linspace(0, 0.9, 10)\n",
    "s = np.sin(a)\n",
    "c = np.cos(a)\n",
    "print(a)\n",
    "print(s)\n",
    "print(c)"
   ]
  },
  {
   "cell_type": "code",
   "execution_count": 19,
   "metadata": {},
   "outputs": [
    {
     "name": "stdout",
     "output_type": "stream",
     "text": [
      "[ 0.          5.72003343 11.38291417 16.9320606  22.31202748 27.46905995\n",
      " 32.35163066 36.91095457 41.10147642 44.8813259 ]\n",
      "[57.29577951 57.00953927 56.15367855 54.73674884 52.77290763 50.28177697\n",
      " 47.28824742 43.82222932 39.918354   35.61562769]\n"
     ]
    }
   ],
   "source": [
    "# convert angles from radians to degrees\n",
    "\n",
    "s1 = np.rad2deg(s)\n",
    "c1 = np.rad2deg(c)\n",
    "print(s1)\n",
    "print(c1)"
   ]
  },
  {
   "cell_type": "code",
   "execution_count": 20,
   "metadata": {},
   "outputs": [
    {
     "data": {
      "text/plain": [
       "'\\nIn-class activity - for the above array \"a\" compute the inverse sine and cosine \\nusing arcsin and arccos.\\n'"
      ]
     },
     "execution_count": 20,
     "metadata": {},
     "output_type": "execute_result"
    }
   ],
   "source": [
    "\"\"\"\n",
    "In-class activity - for the above array \"a\" compute the inverse sine and cosine \n",
    "using arcsin and arccos.\n",
    "\"\"\""
   ]
  },
  {
   "cell_type": "markdown",
   "metadata": {},
   "source": [
    "## Array Indexing"
   ]
  },
  {
   "cell_type": "code",
   "execution_count": 31,
   "metadata": {},
   "outputs": [
    {
     "name": "stdout",
     "output_type": "stream",
     "text": [
      "[[1.96142039 4.42425731 3.45249822 0.7754491  0.40229976]\n",
      " [0.05352902 0.50829171 2.37633903 1.72756001 2.16678995]\n",
      " [3.61350339 4.09755163 0.71713601 0.30566    4.55686357]\n",
      " [0.04074613 0.74928777 4.96809181 4.44272686 0.25527811]\n",
      " [1.73413456 4.58218073 2.36138098 3.26851428 4.28774387]]\n",
      "[[1 4 3 0 0]\n",
      " [0 0 2 1 2]\n",
      " [3 4 0 0 4]\n",
      " [0 0 4 4 0]\n",
      " [1 4 2 3 4]]\n",
      "The rows=1 and cols=2 element is 2\n",
      "The first col is [1 0 3 0 1]\n",
      "The third row is [3 4 0 0 4]\n"
     ]
    }
   ],
   "source": [
    "# Basic slicing\n",
    "import numpy as np\n",
    "a = np.random.rand(5, 5)*5\n",
    "b = a.astype(np.int)\n",
    "print(a)\n",
    "print(b)\n",
    "print('The rows=1 and cols=2 element is {0}'.format(b[1,2])) \n",
    "print('The first col is {0}'.format(b[:,0])) # all rows for cols=0\n",
    "print('The third row is {0}'.format(b[2, :])) # all cols for rows = 2"
   ]
  },
  {
   "cell_type": "code",
   "execution_count": 22,
   "metadata": {},
   "outputs": [
    {
     "name": "stdout",
     "output_type": "stream",
     "text": [
      "[[ 2  4  8]\n",
      " [ 3  5  7]\n",
      " [ 4  6 10]]\n",
      "-1\n",
      "[[1 3 7]\n",
      " [2 4 6]\n",
      " [3 5 9]]\n"
     ]
    }
   ],
   "source": [
    "# broadcasting - the process of supplying a value to \n",
    "# every element in an array\n",
    "\n",
    "a = np.array([[2, 4, 8], [3, 5, 7], [4, 6, 10]])\n",
    "b = np.array(-1)\n",
    "c = a + b\n",
    "print(a)\n",
    "print(b)\n",
    "print(c)"
   ]
  },
  {
   "cell_type": "code",
   "execution_count": 23,
   "metadata": {},
   "outputs": [
    {
     "name": "stdout",
     "output_type": "stream",
     "text": [
      "[[ 2  4  8]\n",
      " [ 3  5  7]\n",
      " [ 4  6 10]]\n",
      "[1 1 1]\n",
      "[[ 3  5  9]\n",
      " [ 4  6  8]\n",
      " [ 5  7 11]]\n"
     ]
    }
   ],
   "source": [
    "# Another example of broadcasting\n",
    "\n",
    "a = np.array([[2, 4, 8], [3, 5, 7], [4, 6, 10]])\n",
    "b = np.array([1, 1, 1])\n",
    "c = a + b\n",
    "print(a)\n",
    "print(b)\n",
    "print(c)"
   ]
  },
  {
   "cell_type": "code",
   "execution_count": 24,
   "metadata": {},
   "outputs": [
    {
     "name": "stdout",
     "output_type": "stream",
     "text": [
      "[[ 2  4  8]\n",
      " [ 3  5  7]\n",
      " [ 4  6 10]]\n",
      "1\n",
      "[[ 3  5  9]\n",
      " [ 4  6  8]\n",
      " [ 5  7 11]]\n"
     ]
    }
   ],
   "source": [
    "\n",
    "a = np.array([[2, 4, 8], [3, 5, 7], [4, 6, 10]])\n",
    "b = np.array(1)\n",
    "c = a + b\n",
    "print(a)\n",
    "print(b)\n",
    "print(c)"
   ]
  },
  {
   "cell_type": "code",
   "execution_count": 25,
   "metadata": {},
   "outputs": [
    {
     "name": "stdout",
     "output_type": "stream",
     "text": [
      "[[2 5]\n",
      " [6 4]]\n",
      "overall sort is:\n",
      "[[2 5]\n",
      " [4 6]]\n",
      "+++++++\n",
      "sort with order=None\n",
      "[[2 5]\n",
      " [4 6]]\n",
      "+++++++\n",
      "Sorting along columns\n",
      "[[2 4]\n",
      " [6 5]]\n",
      "+++++++\n",
      "Sorting along rows\n",
      "[[2 5]\n",
      " [4 6]]\n"
     ]
    }
   ],
   "source": [
    "# An example of sorting\n",
    "\n",
    "a = np.array([[2, 5], [6, 4]])\n",
    "print(a)\n",
    "\n",
    "print(\"overall sort is:\")\n",
    "print(np.sort(a)) # sort(a, axis, kind, order)\n",
    "print(\"+++++++\")\n",
    "print(\"sort with order=None\")\n",
    "print(np.sort(a, order = None))\n",
    "print(\"+++++++\")\n",
    "print(\"Sorting along columns\")\n",
    "print(np.sort(a, axis = 0)) # along the column\n",
    "print(\"+++++++\")\n",
    "print(\"Sorting along rows\")\n",
    "print(np.sort(a, axis = 1)) # along the row"
   ]
  },
  {
   "cell_type": "code",
   "execution_count": 26,
   "metadata": {},
   "outputs": [
    {
     "name": "stdout",
     "output_type": "stream",
     "text": [
      "[[2 5]\n",
      " [4 6]]\n"
     ]
    }
   ],
   "source": [
    " # we can also use sort() method to sort \n",
    "    \n",
    "a.sort() # is same as np.sort(a)\n",
    "# Note: np.sort(a) this will not alter a\n",
    "# however, a.sort(), a is modified in place\n",
    "print(a) "
   ]
  },
  {
   "cell_type": "code",
   "execution_count": 27,
   "metadata": {},
   "outputs": [
    {
     "data": {
      "text/plain": [
       "'\\nIn-class activity - create an ndarray that is 2 by 3. Then broadcast value -5 to each element. \\nThen sort the array first along the columns and then along the rows.\\n'"
      ]
     },
     "execution_count": 27,
     "metadata": {},
     "output_type": "execute_result"
    }
   ],
   "source": [
    "\"\"\"\n",
    "In-class activity - create an ndarray that is 2 by 3. Then broadcast value -5 to each element. \n",
    "Then sort the array first along the columns and then along the rows.\n",
    "\"\"\" "
   ]
  },
  {
   "cell_type": "code",
   "execution_count": 28,
   "metadata": {},
   "outputs": [
    {
     "ename": "NameError",
     "evalue": "name 'f' is not defined",
     "output_type": "error",
     "traceback": [
      "\u001b[1;31m---------------------------------------------------------------------------\u001b[0m",
      "\u001b[1;31mNameError\u001b[0m                                 Traceback (most recent call last)",
      "\u001b[1;32m<ipython-input-28-7597ea41b960>\u001b[0m in \u001b[0;36m<module>\u001b[1;34m\u001b[0m\n\u001b[1;32m----> 1\u001b[1;33m \u001b[0mfcol\u001b[0m \u001b[1;33m=\u001b[0m \u001b[0mnp\u001b[0m\u001b[1;33m.\u001b[0m\u001b[0msort\u001b[0m\u001b[1;33m(\u001b[0m\u001b[0mf\u001b[0m\u001b[1;33m,\u001b[0m \u001b[0maxis\u001b[0m\u001b[1;33m=\u001b[0m\u001b[1;36m0\u001b[0m\u001b[1;33m)\u001b[0m \u001b[1;31m# sorting by columns\u001b[0m\u001b[1;33m\u001b[0m\u001b[1;33m\u001b[0m\u001b[0m\n\u001b[0m\u001b[0;32m      2\u001b[0m \u001b[0mprint\u001b[0m\u001b[1;33m(\u001b[0m\u001b[1;34m\"sorting by columns:\"\u001b[0m\u001b[1;33m)\u001b[0m\u001b[1;33m\u001b[0m\u001b[1;33m\u001b[0m\u001b[0m\n\u001b[0;32m      3\u001b[0m \u001b[0mprint\u001b[0m\u001b[1;33m(\u001b[0m\u001b[0mfcol\u001b[0m\u001b[1;33m)\u001b[0m\u001b[1;33m\u001b[0m\u001b[1;33m\u001b[0m\u001b[0m\n\u001b[0;32m      4\u001b[0m \u001b[1;33m\u001b[0m\u001b[0m\n\u001b[0;32m      5\u001b[0m \u001b[0mfrow\u001b[0m \u001b[1;33m=\u001b[0m \u001b[0mnp\u001b[0m\u001b[1;33m.\u001b[0m\u001b[0msort\u001b[0m\u001b[1;33m(\u001b[0m\u001b[0mf\u001b[0m\u001b[1;33m,\u001b[0m \u001b[0maxis\u001b[0m\u001b[1;33m=\u001b[0m\u001b[1;36m1\u001b[0m\u001b[1;33m)\u001b[0m \u001b[1;31m# sorting by rows\u001b[0m\u001b[1;33m\u001b[0m\u001b[1;33m\u001b[0m\u001b[0m\n",
      "\u001b[1;31mNameError\u001b[0m: name 'f' is not defined"
     ]
    }
   ],
   "source": [
    "fcol = np.sort(f, axis=0) # sorting by columns\n",
    "print(\"sorting by columns:\")\n",
    "print(fcol)\n",
    "\n",
    "frow = np.sort(f, axis=1) # sorting by rows\n",
    "print(\"sorting by rows:\")\n",
    "print(frow)"
   ]
  },
  {
   "cell_type": "code",
   "execution_count": null,
   "metadata": {},
   "outputs": [],
   "source": []
  },
  {
   "cell_type": "code",
   "execution_count": null,
   "metadata": {},
   "outputs": [],
   "source": []
  },
  {
   "cell_type": "code",
   "execution_count": null,
   "metadata": {},
   "outputs": [],
   "source": []
  }
 ],
 "metadata": {
  "kernelspec": {
   "display_name": "Python 3",
   "language": "python",
   "name": "python3"
  },
  "language_info": {
   "codemirror_mode": {
    "name": "ipython",
    "version": 3
   },
   "file_extension": ".py",
   "mimetype": "text/x-python",
   "name": "python",
   "nbconvert_exporter": "python",
   "pygments_lexer": "ipython3",
   "version": "3.7.4"
  }
 },
 "nbformat": 4,
 "nbformat_minor": 2
}
