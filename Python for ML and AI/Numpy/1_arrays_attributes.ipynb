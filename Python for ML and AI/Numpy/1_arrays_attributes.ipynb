{
 "cells": [
  {
   "cell_type": "markdown",
   "metadata": {},
   "source": [
    "## Numpy\n",
    "\n",
    "Travis Oliphant created Numpy and released it to public as Numeric in 1995 and as Numpy in 2006. \n",
    "It is written in Python and C. Now it is maintained by Python Community. \n",
    "\n",
    "Numpy is a powerful library that is used for numerical computing. Libraries such as Pandas and Tensorflow are build on Numpy. In Tensorflow, the output is an ndarray, which stands for n-dimensional array. "
   ]
  },
  {
   "cell_type": "markdown",
   "metadata": {},
   "source": [
    "## Arrays vs Matrices \n",
    "\n",
    "https://www.numpy.org/devdocs/user/numpy-for-matlab-users.html\n",
    "\n",
    "In Numpy, matrices are two dimensional whereas arrays can be of any dimension, i.e. n-dimensional."
   ]
  },
  {
   "cell_type": "code",
   "execution_count": 1,
   "metadata": {},
   "outputs": [],
   "source": [
    "import numpy as np\n",
    "\n",
    "# here np is an alias for numpy"
   ]
  },
  {
   "cell_type": "code",
   "execution_count": 2,
   "metadata": {},
   "outputs": [],
   "source": [
    "# simple way of creating an empty numpy array\n",
    "# array is a numpy function, so it is always going to have (), \n",
    "# since functions have input arguments, that's why we have ()\n",
    "# inside the [], we can give values \n",
    "\n",
    "a = np.array([])"
   ]
  },
  {
   "cell_type": "markdown",
   "metadata": {},
   "source": [
    "## NDARRAY\n",
    "An ndaray is a n-dimensional array where all items are of the same type (unlike a Python data structure) and consequently use the same amount of space. There are 21 different types of objects (also called dtypes) that can be stored in ndarray, such as\n",
    "* bool_ \n",
    "* byte\n",
    "* short\n",
    "* int_\n",
    "* single\n",
    "* float_\n",
    "* longfloat\n",
    "* complex_\n",
    "* object_\n",
    "* str_\n",
    "\n",
    "For some of the dtypes, a _ to differentiate that dtype from the corresponding Python type. Such types are also called as 'enhanced scalars).  They have the same precision as the Python type.\n"
   ]
  },
  {
   "cell_type": "markdown",
   "metadata": {},
   "source": [
    "Creating Arrays - First let's learn about different ways of create arrays in numpy. "
   ]
  },
  {
   "cell_type": "code",
   "execution_count": 3,
   "metadata": {},
   "outputs": [
    {
     "name": "stdout",
     "output_type": "stream",
     "text": [
      "[2, 6, 10] <class 'list'> <class 'int'>\n",
      "[ 2  6 10] <class 'numpy.ndarray'> int32\n"
     ]
    }
   ],
   "source": [
    "# declaring a simple one dimensional numpy array\n",
    "\n",
    "a = [2, 6, 10] # here a is a list that contains three values\n",
    "print(a, type(a), type(a[2]))\n",
    "\n",
    "a = np.array(a) # we are converting a into a numpy array\n",
    "print(a, type(a), a.dtype)"
   ]
  },
  {
   "cell_type": "code",
   "execution_count": 4,
   "metadata": {},
   "outputs": [
    {
     "name": "stdout",
     "output_type": "stream",
     "text": [
      "[1 2 3 4]\n",
      "<class 'numpy.ndarray'>\n"
     ]
    }
   ],
   "source": [
    "# declaring another simple one dimensional numpy array\n",
    "\n",
    "a = np.array([1, 2, 3, 4])\n",
    "print(a)\n",
    "print(type(a))"
   ]
  },
  {
   "cell_type": "code",
   "execution_count": 5,
   "metadata": {},
   "outputs": [
    {
     "name": "stdout",
     "output_type": "stream",
     "text": [
      "[[1 2 3]\n",
      " [4 5 6]]\n",
      "(2, 3)\n",
      "2\n"
     ]
    }
   ],
   "source": [
    "# declaring a two dimensional numpy array\n",
    "\n",
    "b = np.array([[1, 2, 3], [4, 5, 6]])\n",
    "# note that we have to supply each row of the array as an item in a list\n",
    "print(b)\n",
    "print(b.shape) # shape will return the shape of the array, in this case we have two rows and three columns\n",
    "print(b.ndim) # ndim will return the dimension of the nd array"
   ]
  },
  {
   "cell_type": "code",
   "execution_count": 6,
   "metadata": {},
   "outputs": [
    {
     "name": "stdout",
     "output_type": "stream",
     "text": [
      "[[1 2 3]\n",
      " [4 5 6]] <class 'numpy.matrix'>\n",
      "(2, 3)\n",
      "2\n"
     ]
    }
   ],
   "source": [
    "# declaring a numpy matrix, strictly two dimensional\n",
    "\n",
    "b = np.matrix([[1, 2, 3], [4, 5, 6]])\n",
    "# note that we have to supply each row of the array as an item in a list\n",
    "print(b, type(b))\n",
    "print(b.shape)\n",
    "print(b.ndim)"
   ]
  },
  {
   "cell_type": "code",
   "execution_count": 7,
   "metadata": {},
   "outputs": [
    {
     "name": "stdout",
     "output_type": "stream",
     "text": [
      "[0 1 2 3 4 5 6]\n",
      "<class 'numpy.ndarray'>\n"
     ]
    }
   ],
   "source": [
    "# we can create a simple ndarray by using arange\n",
    "# numpy.arange(n) will create an ndarray elements starting from 0 to n-1\n",
    "\n",
    "a = np.arange(7) # will create elements starting from 0 to 7-1\n",
    "print(a)\n",
    "print(type(a))"
   ]
  },
  {
   "cell_type": "code",
   "execution_count": 8,
   "metadata": {},
   "outputs": [
    {
     "name": "stdout",
     "output_type": "stream",
     "text": [
      "[-7 -6 -5 -4 -3 -2 -1  0  1  2  3  4  5  6]\n"
     ]
    }
   ],
   "source": [
    "# we can also include negative integers\n",
    "\n",
    "a1 = np.arange(-7, 7)\n",
    "print(a1)"
   ]
  },
  {
   "cell_type": "code",
   "execution_count": 9,
   "metadata": {},
   "outputs": [
    {
     "name": "stdout",
     "output_type": "stream",
     "text": [
      "[-10  -8  -6  -4  -2   0   2   4   6   8]\n"
     ]
    }
   ],
   "source": [
    "# can have step size \n",
    "a2 = np.arange(start=-10, stop=10, step=2)\n",
    "print(a2)"
   ]
  },
  {
   "cell_type": "code",
   "execution_count": 22,
   "metadata": {},
   "outputs": [
    {
     "name": "stdout",
     "output_type": "stream",
     "text": [
      "The linear space of value is [ 1.          3.11111111  5.22222222  7.33333333  9.44444444 11.55555556\n",
      " 13.66666667 15.77777778 17.88888889 20.        ]\n"
     ]
    }
   ],
   "source": [
    "# Create 10 numbers between 1 and 20 including 20\n",
    "p = np.linspace(start = 1, stop = 20, num=10)\n",
    "print('The linear space of value is {0}'.format(p))"
   ]
  },
  {
   "cell_type": "code",
   "execution_count": 11,
   "metadata": {},
   "outputs": [
    {
     "name": "stdout",
     "output_type": "stream",
     "text": [
      "[-5.         -3.88888889 -2.77777778 -1.66666667 -0.55555556  0.55555556\n",
      "  1.66666667  2.77777778  3.88888889  5.        ]\n"
     ]
    }
   ],
   "source": [
    "\"\"\"\n",
    "In-class activity - create an array using linspace that starts from -5 and stops at 5 and num = 10\n",
    "\"\"\"\n",
    "p = np.linspace(-5, 5, 10)\n",
    "print(p)"
   ]
  },
  {
   "cell_type": "code",
   "execution_count": 12,
   "metadata": {},
   "outputs": [
    {
     "name": "stdout",
     "output_type": "stream",
     "text": [
      "The log space of value is [1.25892541 1.29154967 1.32501936 1.35935639 1.39458325 1.43072299\n",
      " 1.46779927 1.50583635 1.54485915 1.58489319]\n",
      "<class 'numpy.ndarray'>\n"
     ]
    }
   ],
   "source": [
    "\"\"\"\n",
    "In logspace the values are computed by taking 10 power the value\n",
    "note that 10 power 0.1 is 1.25892541\n",
    "\"\"\"\n",
    "\n",
    "p = np.logspace(start = 0.1, stop = 0.20, num=10)\n",
    "print('The log space of value is {0}'.format(p))\n",
    "print(type(p))"
   ]
  },
  {
   "cell_type": "code",
   "execution_count": 13,
   "metadata": {},
   "outputs": [
    {
     "data": {
      "text/plain": [
       "1.2589254117941673"
      ]
     },
     "execution_count": 13,
     "metadata": {},
     "output_type": "execute_result"
    }
   ],
   "source": [
    "import math\n",
    "math.pow(10, 0.10)"
   ]
  },
  {
   "cell_type": "code",
   "execution_count": 14,
   "metadata": {},
   "outputs": [
    {
     "name": "stdout",
     "output_type": "stream",
     "text": [
      "The log space of value is [1.00000000e-04 3.98107171e-03 1.58489319e-01 6.30957344e+00\n",
      " 2.51188643e+02 1.00000000e+04]\n",
      "<class 'numpy.ndarray'>\n"
     ]
    }
   ],
   "source": [
    "\"\"\"\n",
    "In-class activity - Create an array with logspace that starts from -4 and stops at 4 and num = 6.\n",
    "\"\"\"\n",
    "p = np.logspace(start = -4, stop = 4, num=6)\n",
    "print('The log space of value is {0}'.format(p))\n",
    "print(type(p))"
   ]
  },
  {
   "cell_type": "code",
   "execution_count": 15,
   "metadata": {},
   "outputs": [
    {
     "name": "stdout",
     "output_type": "stream",
     "text": [
      "[[0. 0.]\n",
      " [0. 0.]\n",
      " [0. 0.]]\n"
     ]
    }
   ],
   "source": [
    "# using zeros() method\n",
    "a = np.zeros((3, 2))\n",
    "print(a)\n",
    "\n",
    "# np.zeros is used for initialization"
   ]
  },
  {
   "cell_type": "code",
   "execution_count": 16,
   "metadata": {},
   "outputs": [
    {
     "name": "stdout",
     "output_type": "stream",
     "text": [
      "[[1. 1.]\n",
      " [1. 1.]\n",
      " [1. 1.]]\n"
     ]
    }
   ],
   "source": [
    "# using ones() method\n",
    "a = np.ones((3,2))\n",
    "print(a)"
   ]
  },
  {
   "cell_type": "code",
   "execution_count": 17,
   "metadata": {},
   "outputs": [
    {
     "name": "stdout",
     "output_type": "stream",
     "text": [
      "[[1. 0. 0. 0.]\n",
      " [0. 1. 0. 0.]\n",
      " [0. 0. 1. 0.]\n",
      " [0. 0. 0. 1.]]\n"
     ]
    }
   ],
   "source": [
    "# using identity\n",
    "a = np.identity(4) \n",
    "print(a)\n",
    "\n",
    "# identity is always going to return a square nd array with a diagonal of 1s"
   ]
  },
  {
   "cell_type": "code",
   "execution_count": 24,
   "metadata": {},
   "outputs": [
    {
     "name": "stdout",
     "output_type": "stream",
     "text": [
      "[[      1536         15      25344]\n",
      " [        30   23330816    7602813]\n",
      " [1116668035   58459005    8126880]]\n"
     ]
    }
   ],
   "source": [
    "import numpy as np\n",
    "# using empty() method \n",
    "# this will generate very small random numbers close to zero\n",
    "b = np.empty((3,3), dtype=np.int32) \n",
    "print(b) "
   ]
  },
  {
   "cell_type": "code",
   "execution_count": 19,
   "metadata": {},
   "outputs": [
    {
     "name": "stdout",
     "output_type": "stream",
     "text": [
      "[[      1536         15      25344]\n",
      " [        30   23330816    7602813]\n",
      " [1116668035   58459005    8126880]]\n"
     ]
    }
   ],
   "source": [
    "\"\"\"\n",
    "In-class activity: In the above variable b, change b[0][1] to 15 and b[1][0] to 30 and then print b. \n",
    "\"\"\"\n",
    "b[0][1] = 15\n",
    "b[1][0] = 30\n",
    "print(b)"
   ]
  },
  {
   "cell_type": "code",
   "execution_count": 20,
   "metadata": {},
   "outputs": [
    {
     "data": {
      "text/plain": [
       "array([[0, 0, 0],\n",
       "       [0, 0, 0],\n",
       "       [0, 0, 0]])"
      ]
     },
     "execution_count": 20,
     "metadata": {},
     "output_type": "execute_result"
    }
   ],
   "source": [
    "np.zeros_like(b)"
   ]
  },
  {
   "cell_type": "markdown",
   "metadata": {},
   "source": [
    "References:\n",
    "\n",
    "http://people.duke.edu/~ccc14/pcfb/numpympl/NumpyBasics.html\n",
    "\n",
    "https://docs.scipy.org/doc/numpy-dev/user/quickstart.html\n",
    "\n",
    "http://www.engr.ucsb.edu/~shell/che210d/numpy.pdf\n",
    "\n",
    "http://www.labri.fr/perso/nrougier/teaching/numpy/numpy.html\n",
    "\n",
    "http://www.labri.fr/perso/nrougier/teaching/numpy.100/\n",
    "\n",
    "NUMPY TO MATLAB - https://docs.scipy.org/doc/numpy-dev/user/numpy-for-matlab-users.html\n",
    "\n",
    "https://www.numpy.org/devdocs/user/numpy-for-matlab-users.html"
   ]
  }
 ],
 "metadata": {
  "kernelspec": {
   "display_name": "Python 3",
   "language": "python",
   "name": "python3"
  },
  "language_info": {
   "codemirror_mode": {
    "name": "ipython",
    "version": 3
   },
   "file_extension": ".py",
   "mimetype": "text/x-python",
   "name": "python",
   "nbconvert_exporter": "python",
   "pygments_lexer": "ipython3",
   "version": "3.7.4"
  }
 },
 "nbformat": 4,
 "nbformat_minor": 2
}
