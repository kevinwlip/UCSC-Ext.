{
 "cells": [
  {
   "cell_type": "markdown",
   "metadata": {},
   "source": [
    "### In this notebook we will look at\n",
    "\n",
    "random module\n",
    "\n",
    "array manipulations"
   ]
  },
  {
   "cell_type": "code",
   "execution_count": 1,
   "metadata": {},
   "outputs": [],
   "source": [
    "import numpy as np"
   ]
  },
  {
   "cell_type": "code",
   "execution_count": 2,
   "metadata": {},
   "outputs": [
    {
     "name": "stdout",
     "output_type": "stream",
     "text": [
      "[0.0506742  0.96653009 0.25671986]\n"
     ]
    }
   ],
   "source": [
    "# random.rand(x) will return an ndarray with x number of items that are \n",
    "# randomly selected between 0 and 1\n",
    "a = np.random.rand(3)\n",
    "print(a)"
   ]
  },
  {
   "cell_type": "code",
   "execution_count": 3,
   "metadata": {},
   "outputs": [
    {
     "name": "stdout",
     "output_type": "stream",
     "text": [
      "[0.0506742  0.25671986 0.96653009]\n"
     ]
    }
   ],
   "source": [
    "\"\"\"\n",
    "using sort() to sort the elements in an ndarrray\n",
    "sort(axis, kind)\n",
    "all arguments are optional\n",
    "axis can be specified, default -1 means sort along the last axis\n",
    "\n",
    "kind can be quicksort, mergesort or heapsort. Default is quicksort\n",
    "\"\"\"\n",
    "\n",
    "a.sort() \n",
    "print(a)"
   ]
  },
  {
   "cell_type": "code",
   "execution_count": 4,
   "metadata": {},
   "outputs": [
    {
     "name": "stdout",
     "output_type": "stream",
     "text": [
      "[[0.12163233 0.53118856 0.51323408 0.33774266]\n",
      " [0.52406948 0.13456116 0.79380214 0.92797606]] float64\n",
      "(array([0, 0, 0, 0, 1, 1, 1, 1], dtype=int64), array([0, 1, 2, 3, 0, 1, 2, 3], dtype=int64))\n"
     ]
    }
   ],
   "source": [
    "a = np.random.rand(2, 4)\n",
    "print(a, a.dtype)\n",
    "print(a.nonzero())"
   ]
  },
  {
   "cell_type": "code",
   "execution_count": 5,
   "metadata": {},
   "outputs": [
    {
     "data": {
      "text/plain": [
       "'\\na = [[0.09999404 0.65339454 0.90353863 0.76352847]\\n      0, 0         0,1        0,2        0,3\\n     [0.62678425 0.34410054 0.79213342 0.24033324]]\\n       1,0         1,1        1,2        1,3\\n\\n0,0  \\n0,1\\n0,2\\n\\n'"
      ]
     },
     "execution_count": 5,
     "metadata": {},
     "output_type": "execute_result"
    }
   ],
   "source": [
    "\"\"\"\n",
    "a = [[0.09999404 0.65339454 0.90353863 0.76352847]\n",
    "      0, 0         0,1        0,2        0,3\n",
    "     [0.62678425 0.34410054 0.79213342 0.24033324]]\n",
    "       1,0         1,1        1,2        1,3\n",
    "\n",
    "0,0  \n",
    "0,1\n",
    "0,2\n",
    "\n",
    "\"\"\""
   ]
  },
  {
   "cell_type": "code",
   "execution_count": 6,
   "metadata": {},
   "outputs": [
    {
     "name": "stdout",
     "output_type": "stream",
     "text": [
      "0.70318883344477\n"
     ]
    }
   ],
   "source": [
    "# random.sample will return a random number from a uniform distribution from [0.0, 1.0)\n",
    "# 1.0 is not included\n",
    "c = np.random.sample()\n",
    "print(c)"
   ]
  },
  {
   "cell_type": "code",
   "execution_count": 7,
   "metadata": {},
   "outputs": [
    {
     "name": "stdout",
     "output_type": "stream",
     "text": [
      "2\n"
     ]
    }
   ],
   "source": [
    "# random.choice(n) will return a number from an ndarray n\n",
    "a = np.array([2, 6, 12, 18])\n",
    "print(np.random.choice(a))"
   ]
  },
  {
   "cell_type": "code",
   "execution_count": 14,
   "metadata": {},
   "outputs": [
    {
     "name": "stdout",
     "output_type": "stream",
     "text": [
      "2\n",
      "13\n",
      "[-7 -8]\n"
     ]
    }
   ],
   "source": [
    "\"\"\"\n",
    "random.randint(x) will return an integer from the interval  [0, x], both are included\n",
    "random.randint(x, y) will return an integer from [x, y]\n",
    "random.randint(x, y, n) will return n integers between x and y\n",
    "\"\"\"\n",
    "\n",
    "print(np.random.randint(5)) # returned a value between 0 and 5\n",
    "print(np.random.randint(11, 15)) # returned a value\n",
    "print(np.random.randint(-10, -5, 2)) # this returned two values "
   ]
  },
  {
   "cell_type": "code",
   "execution_count": 9,
   "metadata": {},
   "outputs": [
    {
     "data": {
      "text/plain": [
       "'\\nIn-class activity: \\nFrom the list [\"Elizabeth\", \"Lisa\", \"Asha\", \"Mike\", \"Amit\"] choose a name\\n'"
      ]
     },
     "execution_count": 9,
     "metadata": {},
     "output_type": "execute_result"
    }
   ],
   "source": [
    "\"\"\"\n",
    "In-class activity: \n",
    "From the list [\"Elizabeth\", \"Lisa\", \"Asha\", \"Mike\", \"Amit\"] choose a name\n",
    "\"\"\""
   ]
  },
  {
   "cell_type": "code",
   "execution_count": 10,
   "metadata": {},
   "outputs": [
    {
     "name": "stdout",
     "output_type": "stream",
     "text": [
      "Lisa\n"
     ]
    }
   ],
   "source": [
    "list1 = [\"Elizabeth\", \"Lisa\", \"Asha\", \"Mike\", \"Amit\"]\n",
    "import random\n",
    "c = random.choice(list1)\n",
    "print(c)"
   ]
  },
  {
   "cell_type": "code",
   "execution_count": 11,
   "metadata": {},
   "outputs": [
    {
     "name": "stdout",
     "output_type": "stream",
     "text": [
      "lista is:  ['Elizabeth', 'Lisa', 'Asha', 'Mike', 'Amit']\n",
      "Pick a random name from lista:  Elizabeth\n",
      "Amit\n"
     ]
    }
   ],
   "source": [
    "# Raanan's solution\n",
    "lista = [\"Elizabeth\", \"Lisa\", \"Asha\", \"Mike\", \"Amit\"]\n",
    "print(\"lista is: \",lista)\n",
    "print(\"Pick a random name from lista: \", lista[np.random.randint(len(lista))])\n",
    "print(np.random.choice(lista))"
   ]
  },
  {
   "cell_type": "code",
   "execution_count": 12,
   "metadata": {},
   "outputs": [
    {
     "data": {
      "text/plain": [
       "'\\nIn-class activity:\\nUsing random.rand create a 1D ndarray, then convert the values in the ndarray to integer \\nand then choose a value from the new int ndarray. At every step print the output. \\n'"
      ]
     },
     "execution_count": 12,
     "metadata": {},
     "output_type": "execute_result"
    }
   ],
   "source": [
    "\"\"\"\n",
    "In-class activity:\n",
    "Using random.rand create a 1D ndarray, then convert the values in the ndarray to integer \n",
    "and then choose a value from the new int ndarray. At every step print the output. \n",
    "\"\"\""
   ]
  },
  {
   "cell_type": "code",
   "execution_count": 16,
   "metadata": {},
   "outputs": [
    {
     "name": "stdout",
     "output_type": "stream",
     "text": [
      "[1 3 5 6]\n",
      "6\n"
     ]
    }
   ],
   "source": [
    "n3 = np.array([1,3,5,6])\n",
    "print(n3)\n",
    "\n",
    "nchoose = np.random.choice(n3)\n",
    "print(nchoose)"
   ]
  },
  {
   "cell_type": "code",
   "execution_count": 17,
   "metadata": {},
   "outputs": [
    {
     "name": "stdout",
     "output_type": "stream",
     "text": [
      "[[0.10141898 0.99253707 0.39094015 0.32382487]] 2\n"
     ]
    }
   ],
   "source": [
    "ne = np.random.rand(1,4)\n",
    "print(ne, ne.ndim)"
   ]
  },
  {
   "cell_type": "markdown",
   "metadata": {},
   "source": [
    "#### Now we will look at the array manipulation"
   ]
  },
  {
   "cell_type": "code",
   "execution_count": 18,
   "metadata": {},
   "outputs": [
    {
     "name": "stdout",
     "output_type": "stream",
     "text": [
      "a:\n",
      "[[2 4]\n",
      " [7 9]]\n",
      "b:\n",
      "[[1 3]\n",
      " [6 5]]\n"
     ]
    }
   ],
   "source": [
    "a = np.array([[2, 4], [7, 9]])\n",
    "b = np.array([[1, 3], [6, 5]])\n",
    "print(\"a:\")\n",
    "print(a)\n",
    "print(\"b:\")\n",
    "print(b)"
   ]
  },
  {
   "cell_type": "code",
   "execution_count": 19,
   "metadata": {},
   "outputs": [
    {
     "name": "stdout",
     "output_type": "stream",
     "text": [
      "[[ 3  7]\n",
      " [13 14]]\n"
     ]
    }
   ],
   "source": [
    "# using + operator we can compute element by element sum of two arrays\n",
    "print(a + b)"
   ]
  },
  {
   "cell_type": "code",
   "execution_count": 20,
   "metadata": {},
   "outputs": [
    {
     "name": "stdout",
     "output_type": "stream",
     "text": [
      "[[ 2 12]\n",
      " [42 45]]\n"
     ]
    }
   ],
   "source": [
    "# using * operator we can compute element by element multiplication of two arrays\n",
    "\n",
    "print(a * b) # element by element multiplication"
   ]
  },
  {
   "cell_type": "code",
   "execution_count": 21,
   "metadata": {},
   "outputs": [
    {
     "name": "stdout",
     "output_type": "stream",
     "text": [
      "[[1 1]\n",
      " [1 4]]\n"
     ]
    }
   ],
   "source": [
    "# using - operator we can compute element by element subtraction of two arrays\n",
    "\n",
    "print(a - b)"
   ]
  },
  {
   "cell_type": "code",
   "execution_count": 22,
   "metadata": {},
   "outputs": [
    {
     "name": "stdout",
     "output_type": "stream",
     "text": [
      "[[26 26]\n",
      " [61 66]]\n"
     ]
    }
   ],
   "source": [
    "# dot(a1, a2) will compute matrix multiplication\n",
    "\n",
    "print(np.dot(a, b)) # matrix multiplication "
   ]
  },
  {
   "cell_type": "code",
   "execution_count": 23,
   "metadata": {},
   "outputs": [],
   "source": [
    "# np.dot(m1, m2)\n",
    "# the number of cloumns in m1 should match number of rows in m2"
   ]
  },
  {
   "cell_type": "code",
   "execution_count": 24,
   "metadata": {},
   "outputs": [
    {
     "name": "stdout",
     "output_type": "stream",
     "text": [
      "[[26 26]\n",
      " [61 66]]\n"
     ]
    }
   ],
   "source": [
    "# @ can be used to perform matrix multiplication \n",
    "# @  is called the 'infix' operator and is only available in Python 3.5+ (PEP 465)\n",
    "\n",
    "print(a @ b)"
   ]
  },
  {
   "cell_type": "code",
   "execution_count": 25,
   "metadata": {},
   "outputs": [
    {
     "name": "stdout",
     "output_type": "stream",
     "text": [
      "[[26 26]\n",
      " [61 66]]\n"
     ]
    }
   ],
   "source": [
    "# if we have matrices then we can perfrom matrix multiplication using matmul(a1, a2)\n",
    "\n",
    "print(np.matmul(a, b)) # matrix multiplication"
   ]
  },
  {
   "cell_type": "code",
   "execution_count": 26,
   "metadata": {},
   "outputs": [
    {
     "data": {
      "text/plain": [
       "'\\n[[4, 7, 9]\\n [5, 7, 10]]\\n \\n 2 by 3\\n'"
      ]
     },
     "execution_count": 26,
     "metadata": {},
     "output_type": "execute_result"
    }
   ],
   "source": [
    "\"\"\"\n",
    "[[4, 7, 9]\n",
    " [5, 7, 10]]\n",
    " \n",
    " 2 by 3\n",
    "\"\"\""
   ]
  },
  {
   "cell_type": "code",
   "execution_count": 27,
   "metadata": {},
   "outputs": [
    {
     "name": "stdout",
     "output_type": "stream",
     "text": [
      "[[ 4  5]\n",
      " [ 7  7]\n",
      " [ 9 10]]\n"
     ]
    }
   ],
   "source": [
    "# in an array transpose() will interchange the rows to columns \n",
    "# and vice-versa \n",
    "\n",
    "print(np.transpose([[4, 7, 9], [5, 7, 10]]))"
   ]
  },
  {
   "cell_type": "code",
   "execution_count": 28,
   "metadata": {},
   "outputs": [
    {
     "name": "stdout",
     "output_type": "stream",
     "text": [
      "Original array\n",
      "[[ 3  5  1]\n",
      " [ 8 11  0]]\n",
      "Transposed array\n",
      "[[ 3  8]\n",
      " [ 5 11]\n",
      " [ 1  0]]\n"
     ]
    }
   ],
   "source": [
    "# T can also be used to transpose a matrix\n",
    "\n",
    "y = np.array([[3, 5, 1], [8, 11, 0]])\n",
    "print(\"Original array\")\n",
    "print(y)\n",
    "print(\"Transposed array\")\n",
    "print(y.T)"
   ]
  },
  {
   "cell_type": "code",
   "execution_count": null,
   "metadata": {},
   "outputs": [],
   "source": [
    "\"\"\"\n",
    "In-class activity:\n",
    "Create two 2-by-2 ndarrays. Compute the following:\n",
    "\n",
    "1) Element by element multiplication\n",
    "\n",
    "2) Array multiplication using two different methods of your choice\n",
    "\n",
    "element by element\n",
    "a m-by-n\n",
    "b m-by-n (or) 1-by-1 (or) n-by-1\n",
    "\n",
    "@ matmul\n",
    "a m-by-n\n",
    "b n-by-k\n",
    "\"\"\""
   ]
  },
  {
   "cell_type": "code",
   "execution_count": null,
   "metadata": {},
   "outputs": [],
   "source": []
  },
  {
   "cell_type": "code",
   "execution_count": 30,
   "metadata": {},
   "outputs": [
    {
     "data": {
      "text/plain": [
       "'\\nIn-class activity:\\nCreate a 2-by-2 ndarray. Compute the following:\\n\\n1) Transpose of the ndarray\\n\\n2) array multiplication of the old array and the transposed array\\n'"
      ]
     },
     "execution_count": 30,
     "metadata": {},
     "output_type": "execute_result"
    }
   ],
   "source": [
    "\"\"\"\n",
    "In-class activity:\n",
    "Create a 2-by-2 ndarray. Compute the following:\n",
    "\n",
    "1) Transpose of the ndarray\n",
    "\n",
    "2) array multiplication of the old array and the transposed array\n",
    "\"\"\""
   ]
  },
  {
   "cell_type": "code",
   "execution_count": 31,
   "metadata": {},
   "outputs": [
    {
     "name": "stdout",
     "output_type": "stream",
     "text": [
      "(2, 3) (3, 2)\n",
      "[[14 32]\n",
      " [32 77]]\n",
      "(2, 2)\n"
     ]
    }
   ],
   "source": [
    "a = np.array([[1,2,3],[4,5,6]])\n",
    "b = np.transpose(a)\n",
    "print(a.shape, b.shape)\n",
    "c = a@b\n",
    "print(c)\n",
    "print(c.shape)"
   ]
  }
 ],
 "metadata": {
  "kernelspec": {
   "display_name": "Python 3",
   "language": "python",
   "name": "python3"
  },
  "language_info": {
   "codemirror_mode": {
    "name": "ipython",
    "version": 3
   },
   "file_extension": ".py",
   "mimetype": "text/x-python",
   "name": "python",
   "nbconvert_exporter": "python",
   "pygments_lexer": "ipython3",
   "version": "3.7.4"
  }
 },
 "nbformat": 4,
 "nbformat_minor": 2
}
