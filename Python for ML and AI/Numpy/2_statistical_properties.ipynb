{
 "cells": [
  {
   "cell_type": "markdown",
   "metadata": {},
   "source": [
    "In this notebook we will discuss statistical properties."
   ]
  },
  {
   "cell_type": "code",
   "execution_count": 1,
   "metadata": {},
   "outputs": [],
   "source": [
    "import numpy as np"
   ]
  },
  {
   "cell_type": "code",
   "execution_count": 2,
   "metadata": {},
   "outputs": [
    {
     "name": "stdout",
     "output_type": "stream",
     "text": [
      "[[ 5  7  9]\n",
      " [ 3 -6 11]\n",
      " [ 2 -8 13]]\n",
      "-8\n",
      "[ 2 -8  9]\n",
      "[ 5 -6 -8]\n"
     ]
    }
   ],
   "source": [
    "# min() will return the minimum value \n",
    "\n",
    "a = np.array([[5, 7, 9], [3, -6, 11], [2, -8, 13]])\n",
    "print(a)\n",
    "print(np.min(a))\n",
    "print(np.min(a, axis=0)) # along the columns\n",
    "print(np.min(a, axis=1)) # along the rows"
   ]
  },
  {
   "cell_type": "code",
   "execution_count": 3,
   "metadata": {},
   "outputs": [
    {
     "name": "stdout",
     "output_type": "stream",
     "text": [
      "[[ 5  7  9]\n",
      " [ 3 -6 11]\n",
      " [ 2 -8 13]]\n",
      "13\n",
      "[ 5  7 13]\n",
      "[ 9 11 13]\n"
     ]
    }
   ],
   "source": [
    "# max() will return the maximum value\n",
    "\n",
    "# a = np.array([[5, 7, 9], [3, 6, 11], [2, 8, 13]])\n",
    "print(a)\n",
    "print(np.max(a))\n",
    "print(np.max(a, 0)) # along the columns\n",
    "print(np.max(a, 1)) # along the rows"
   ]
  },
  {
   "cell_type": "code",
   "execution_count": 4,
   "metadata": {},
   "outputs": [
    {
     "name": "stdout",
     "output_type": "stream",
     "text": [
      "[[ 5  7  9]\n",
      " [ 3 -6 11]\n",
      " [ 2 -8 13]]\n",
      "21\n",
      "[ 3 15  4]\n",
      "[ 4 17 21]\n"
     ]
    }
   ],
   "source": [
    "# ptp() returns the max value minus min value along a specified axis\n",
    "\n",
    "a = np.array([[5, 7, 9], [3, -6, 11], [2, -8, 13]])\n",
    "print(a)\n",
    "print(np.ptp(a))\n",
    "print(np.ptp(a, 0)) # along the columns\n",
    "print(np.ptp(a, 1)) # along the rows"
   ]
  },
  {
   "cell_type": "code",
   "execution_count": 5,
   "metadata": {},
   "outputs": [
    {
     "name": "stdout",
     "output_type": "stream",
     "text": [
      "[[20 10 50]\n",
      " [30 50 70]\n",
      " [60 40 10]]\n",
      "40.0\n",
      "[30. 40. 50.]\n",
      "[20. 50. 40.]\n"
     ]
    }
   ],
   "source": [
    "\"\"\"\n",
    "For percentile, the values have to be arranged in ascending order and \n",
    "for this example, we then pick 50th percentile\n",
    "\"\"\"\n",
    "\n",
    "\n",
    "a = np.array([[20, 10, 50], [30, 50, 70], [60, 40, 10]])\n",
    "print(a)\n",
    "print(np.percentile(a, 50))\n",
    "print(np.percentile(a, 50, axis=0)) # along the columns\n",
    "print(np.percentile(a, 50, axis=1)) # along the rows\n",
    "\n"
   ]
  },
  {
   "cell_type": "code",
   "execution_count": 16,
   "metadata": {},
   "outputs": [
    {
     "name": "stdout",
     "output_type": "stream",
     "text": [
      "[[20 10 50]\n",
      " [30 50 70]\n",
      " [60 40 10]]\n",
      "37.77777777777778\n",
      "[36.66666667 33.33333333 43.33333333]\n",
      "[26.66666667 50.         36.66666667]\n",
      "[26.66666667 50.         36.66666667]\n",
      "(3,)\n",
      "[26.66666667 50.         36.66666667]\n",
      "(3,)\n"
     ]
    }
   ],
   "source": [
    "# mean() returns the mean or the average\n",
    "\n",
    "a = np.array([[20, 10, 50], [30, 50, 70], [60, 40, 10]])\n",
    "print(a)\n",
    "print(np.mean(a))\n",
    "print(np.mean(a, axis=0)) # along the columns\n",
    "print(np.mean(a, axis=1)) # along the rows\n",
    "\n",
    "# transpose\n",
    "a1 = np.mean(a, axis=1)\n",
    "print(a1)\n",
    "print(a1.shape)\n",
    "a2 = np.mean(a, axis=1).T\n",
    "print(a2)\n",
    "print(a2.shape)"
   ]
  },
  {
   "cell_type": "code",
   "execution_count": 7,
   "metadata": {},
   "outputs": [
    {
     "name": "stdout",
     "output_type": "stream",
     "text": [
      "[[20 10 50]\n",
      " [30 50 70]\n",
      " [60 40 10]]\n",
      "40.0\n",
      "[30. 40. 50.]\n",
      "[20. 50. 40.]\n"
     ]
    }
   ],
   "source": [
    "# median() returns the median \n",
    "\n",
    "a = np.array([[20, 10, 50], [30, 50, 70], [60, 40, 10]])\n",
    "print(a)\n",
    "print(np.median(a))\n",
    "print(np.median(a, axis=0)) # along the columns\n",
    "print(np.median(a, axis=1)) # along the rows"
   ]
  },
  {
   "cell_type": "code",
   "execution_count": 8,
   "metadata": {},
   "outputs": [
    {
     "name": "stdout",
     "output_type": "stream",
     "text": [
      "2.0\n"
     ]
    }
   ],
   "source": [
    "# determining average using weights\n",
    "\n",
    "a = np.array([1, 2, 3, 4])\n",
    "wts = np.array([4, 3, 2, 1])\n",
    "print(np.average(a, weights=wts))\n",
    "\n",
    "# (1*4) + (2*3) + (3*2) + (4*1) = 20\n",
    "# 20 / total in weights = 20/10 = 2   => Weight Average / Expected Value"
   ]
  },
  {
   "cell_type": "code",
   "execution_count": 9,
   "metadata": {},
   "outputs": [
    {
     "name": "stdout",
     "output_type": "stream",
     "text": [
      "(2.0, 10.0)\n"
     ]
    }
   ],
   "source": [
    "# determining average using weights\n",
    "# when returned = True, it returns the average value as well as the \n",
    "# sum of the weights\n",
    "\n",
    "a = np.array([1, 2, 3, 4])\n",
    "wts = np.array([4, 3, 2, 1])\n",
    "print(np.average(a, weights=wts, returned = True)) # Weight Average / Expected Value"
   ]
  },
  {
   "cell_type": "code",
   "execution_count": 10,
   "metadata": {},
   "outputs": [
    {
     "name": "stdout",
     "output_type": "stream",
     "text": [
      "3.0\n",
      "1.4142135623730951\n"
     ]
    }
   ],
   "source": [
    "# standard deviation is the square root of average of squared deviations \n",
    "# from the mean\n",
    "\n",
    "a = np.array([1, 2, 3, 4, 5])\n",
    "print(np.mean(a))\n",
    "print(np.std(a))\n",
    "# this value is nothing but the square root of 2."
   ]
  },
  {
   "cell_type": "code",
   "execution_count": 11,
   "metadata": {},
   "outputs": [
    {
     "name": "stdout",
     "output_type": "stream",
     "text": [
      "k: [[ 2 -4  6]\n",
      " [ 7  4  8]\n",
      " [ 5 10  4]]\n",
      "max columns [ 7 10  8]\n",
      "max rows [ 6  8 10]\n",
      "min columns [ 2 -4  4]\n",
      "min rows [-4  4  4]\n",
      "mean columns [4.66666667 3.33333333 6.        ]\n",
      "mean rows [1.33333333 6.33333333 6.33333333]\n",
      "median columns [5. 4. 6.]\n",
      "median rows [2. 7. 5.]\n",
      "ptp columns [ 5 14  4]\n",
      "ptp rows [10  4  6]\n",
      "std [2.05480467 5.73488351 1.63299316]\n",
      "std [4.10960934 1.69967317 2.62466929]\n"
     ]
    }
   ],
   "source": [
    "\"\"\"\n",
    "In-class activity - create an ndarray with values [2, -4, 6], [7, 4, 8] and [5, 10, 4]. \n",
    "Determine the following:\n",
    "1) The maximum values along the columns and along the rows and for the whole array.\n",
    "2) The minimum values along the columns and along the rows and for the whole array.\n",
    "3) The mean and median values along the columns and along the rows and for the whole array.\n",
    "4) The ptp along columns and rows and for the whole array. \n",
    "5) The standard deviation. \n",
    "\"\"\"\n",
    "k = np.array([[2, -4, 6], [7, 4, 8], [5, 10, 4]])\n",
    "print(\"k:\", k)\n",
    "\n",
    "print(\"max columns\", np.max(k, 0))\n",
    "print(\"max rows\", np.max(k, 1))\n",
    "\n",
    "print(\"min columns\", np.min(k, 0))\n",
    "print(\"min rows\", np.min(k, 1))\n",
    "\n",
    "print(\"mean columns\", np.mean(k, 0))\n",
    "print(\"mean rows\", np.mean(k, 1))\n",
    "\n",
    "print(\"median columns\", np.median(k, 0))\n",
    "print(\"median rows\", np.median(k, 1))\n",
    "\n",
    "print(\"ptp columns\", np.ptp(k, 0))\n",
    "print(\"ptp rows\", np.ptp(k, 1))\n",
    "\n",
    "print(\"std\", np.std(k, 0))\n",
    "print(\"std\", np.std(k, 1))"
   ]
  },
  {
   "cell_type": "code",
   "execution_count": 12,
   "metadata": {},
   "outputs": [
    {
     "name": "stdout",
     "output_type": "stream",
     "text": [
      "[[2 3]\n",
      " [5 6]\n",
      " [1 1]]\n",
      "[ 8 10]\n",
      "[ 5 11  2]\n"
     ]
    }
   ],
   "source": [
    "a = np.array([[2, 3],[5, 6],[1, 1]])\n",
    "print(a)\n",
    "print(a.sum(axis = 0))\n",
    "print(a.sum(axis = 1))"
   ]
  },
  {
   "cell_type": "code",
   "execution_count": 13,
   "metadata": {
    "scrolled": true
   },
   "outputs": [
    {
     "name": "stdout",
     "output_type": "stream",
     "text": [
      "3\n"
     ]
    }
   ],
   "source": [
    "list1 = ['a', 'd', 'w']\n",
    "print(len(list1))"
   ]
  },
  {
   "cell_type": "code",
   "execution_count": 14,
   "metadata": {},
   "outputs": [
    {
     "name": "stdout",
     "output_type": "stream",
     "text": [
      "a\n",
      "d\n",
      "w\n"
     ]
    }
   ],
   "source": [
    "print(list1[0]) # index 0 is for the first value in the list\n",
    "print(list1[1]) # index 1 is for the second value in the list\n",
    "print(list1[2]) # index 2 is for the third value in the list"
   ]
  },
  {
   "cell_type": "code",
   "execution_count": 15,
   "metadata": {},
   "outputs": [
    {
     "name": "stdout",
     "output_type": "stream",
     "text": [
      "w\n"
     ]
    }
   ],
   "source": [
    "print(list1[-1]) # listname[-1] returns the last value in the list"
   ]
  }
 ],
 "metadata": {
  "kernelspec": {
   "display_name": "Python 3",
   "language": "python",
   "name": "python3"
  },
  "language_info": {
   "codemirror_mode": {
    "name": "ipython",
    "version": 3
   },
   "file_extension": ".py",
   "mimetype": "text/x-python",
   "name": "python",
   "nbconvert_exporter": "python",
   "pygments_lexer": "ipython3",
   "version": "3.7.4"
  }
 },
 "nbformat": 4,
 "nbformat_minor": 2
}
