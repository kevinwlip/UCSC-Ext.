{
 "cells": [
  {
   "cell_type": "markdown",
   "metadata": {
    "collapsed": true
   },
   "source": [
    "In this notebook we will look into matrix factorization.\n",
    "\n",
    "Matrix factorization is used to represent a given large matrix into a product of two or more, smaller matrices. \n",
    "One important use is to save memory.\n",
    "\n",
    "Let A be a square matrix, our goal is to find two matrices whose multiplication will result in A.\n",
    "\n",
    "Matrix factorization is also known as matrix decomposition.\n",
    "\n",
    "Different matrix facorizations such as:\n",
    "\n",
    "1) LU decomposition\n",
    "\n",
    "2) QR decomposition\n",
    "\n",
    "3) Cholesky decomposition\n",
    "\n",
    "4) Singular Value Decomposition (SVD)"
   ]
  },
  {
   "cell_type": "code",
   "execution_count": 2,
   "metadata": {},
   "outputs": [],
   "source": [
    "import numpy as np\n",
    "from scipy import linalg"
   ]
  },
  {
   "cell_type": "markdown",
   "metadata": {},
   "source": [
    "Let us first look at a system of equations:\n",
    "    \n",
    "$ x_1 + x_2 = 7 $\n",
    "\n",
    "$ 2x_1 - x_2 = 8 $\n",
    "\n",
    "Our goal is to find $x_1$ and $x_2$ using elimination. "
   ]
  },
  {
   "cell_type": "markdown",
   "metadata": {},
   "source": [
    "Now let's solve the above equations by converting them into matrices."
   ]
  },
  {
   "cell_type": "markdown",
   "metadata": {},
   "source": [
    "Let's define det(A) \n",
    "\n",
    "Determinant of a matrix A is a scalar that is further used to solve a system of linear equations.\n",
    "\n",
    "Let's consider an example\n",
    "\n",
    "Reference: https://math.oregonstate.edu/home/programs/undergrad/CalculusQuestStudyGuides/vcalc/deter/deter.html\n",
    "        \n",
    "<img src=\"images/determinant.png\" width=500, height=400>"
   ]
  },
  {
   "cell_type": "code",
   "execution_count": 2,
   "metadata": {},
   "outputs": [
    {
     "name": "stdout",
     "output_type": "stream",
     "text": [
      "27.0\n"
     ]
    }
   ],
   "source": [
    "a = np.array([[2, -3], [1, 12]])\n",
    "print(linalg.det(a))"
   ]
  },
  {
   "cell_type": "markdown",
   "metadata": {},
   "source": [
    "Let us look at an example for inverse of a matrix\n",
    "\n",
    "Reference: https://www.mathsisfun.com/algebra/matrix-inverse.html\n",
    "\n",
    "<img src=\"images/inverse_matrix.png\" width=500, height=300>"
   ]
  },
  {
   "cell_type": "markdown",
   "metadata": {},
   "source": [
    "Now let us now solve the system of equations that we considered initially \n",
    "\n",
    "$ x_1 + x_2 = 7 $\n",
    "\n",
    "$ 2x_1 - x_2 = 8 $\n",
    "\n",
    "Let us find $x_1$ and $x_2$ by computing the matrix inverse. \n",
    "We will solve this on the board. "
   ]
  },
  {
   "cell_type": "code",
   "execution_count": 3,
   "metadata": {},
   "outputs": [
    {
     "name": "stdout",
     "output_type": "stream",
     "text": [
      "[[ 0.33333333  0.33333333]\n",
      " [ 0.66666667 -0.33333333]]\n",
      "[5. 2.]\n"
     ]
    }
   ],
   "source": [
    "A = np.array([[1, 1], [2, -1]])\n",
    "B = np.array([7, 8])\n",
    "Ainverse = linalg.inv(A)\n",
    "print(Ainverse)\n",
    "Sol = Ainverse.dot(B)\n",
    "print(Sol)"
   ]
  },
  {
   "cell_type": "code",
   "execution_count": 4,
   "metadata": {},
   "outputs": [
    {
     "name": "stdout",
     "output_type": "stream",
     "text": [
      "[4. 1.]\n"
     ]
    }
   ],
   "source": [
    "\"\"\"\n",
    "In-class activity: Can you solve the system of equations \n",
    "\n",
    "2x_1 + x_2 = 9\n",
    "\n",
    "3x_1 - x_2 = 11\n",
    "\n",
    "1) Using Gaussian Elimination\n",
    "\n",
    "2) Finding inverse\n",
    "\n",
    "3) Using Scipy.\n",
    "\"\"\"\n",
    "\n",
    "# part 3\n",
    "\n",
    "A = np.array([[2, 1], [3, -1]])\n",
    "B = np.array([9, 11])\n",
    "\n",
    "Ainv = linalg.inv(A)\n",
    "solution = Ainv.dot(B)\n",
    "print(solution)"
   ]
  },
  {
   "cell_type": "markdown",
   "metadata": {},
   "source": [
    "#### Eigen Values and Eigen Vectors\n",
    "\n",
    "Eigen values help us explain characteristics of a matrix. In the following equation, $\\lambda$ is known as the eigen value and $v$ is known as the eigen vector. \n",
    "\n",
    "$ A v = \\lambda v $"
   ]
  },
  {
   "cell_type": "markdown",
   "metadata": {},
   "source": [
    "#### Example on computing eigen value and eigen vector\n",
    "\n",
    "Reference: https://lpsa.swarthmore.edu/MtrxVibe/EigMat/MatrixEigen.html\n",
    "\n",
    "\n",
    "<img src=\"images/eigen_example2.png\">"
   ]
  },
  {
   "cell_type": "code",
   "execution_count": 5,
   "metadata": {},
   "outputs": [
    {
     "name": "stdout",
     "output_type": "stream",
     "text": [
      "[-1.+0.j -2.+0.j]\n",
      "[[ 0.70710678 -0.4472136 ]\n",
      " [-0.70710678  0.89442719]]\n"
     ]
    }
   ],
   "source": [
    "A = np.array([[0, 1], [-2, -3]])\n",
    "value, v = linalg.eig(A)\n",
    "print(value)\n",
    "print(v)"
   ]
  },
  {
   "cell_type": "code",
   "execution_count": 6,
   "metadata": {},
   "outputs": [
    {
     "name": "stdout",
     "output_type": "stream",
     "text": [
      "[-3.+0.j  3.+0.j]\n",
      "[[-0.70710678 -0.19611614]\n",
      " [ 0.70710678 -0.98058068]]\n"
     ]
    }
   ],
   "source": [
    "\"\"\"\n",
    "In-class activity: Find the eigen values and eigen vectors for the following \n",
    "\n",
    "A = [[-2, 1], [5, 2]]\n",
    "\n",
    "1) Find them by solving mathematically\n",
    "\n",
    "2) Use Scipy\n",
    "\"\"\"\n",
    "A = np.array([[-2, 1], [5, 2]])\n",
    "value, v = linalg.eig(A)\n",
    "print(value)\n",
    "print(v)"
   ]
  },
  {
   "cell_type": "markdown",
   "metadata": {},
   "source": [
    "#### LU Decomposition\n",
    "\n",
    "LU Decomposition\n",
    "$A = L * U = LU $\n",
    "\n",
    "A is a square matrix, L and U are triangular matrices.\n",
    "<img src=images/LU.png>"
   ]
  },
  {
   "cell_type": "markdown",
   "metadata": {},
   "source": [
    "#### LU decomposition using Dolittle computation\n",
    "\n",
    "References: https://www.quantstart.com/articles/LU-Decomposition-in-Python-and-NumPy\n",
    "\n",
    "http://mathonline.wikidot.com/doolittle-s-method-for-lu-decompositions\n",
    "        \n",
    "<img src=images/dolittle_computational.png>"
   ]
  },
  {
   "cell_type": "code",
   "execution_count": 7,
   "metadata": {},
   "outputs": [
    {
     "name": "stdout",
     "output_type": "stream",
     "text": [
      "[[0. 0. 1.]\n",
      " [0. 1. 0.]\n",
      " [1. 0. 0.]]\n",
      "+++++++++\n",
      "[[1.         0.         0.        ]\n",
      " [0.33333333 1.         0.        ]\n",
      " [0.66666667 0.2        1.        ]]\n",
      "+++++++++\n",
      "[[3.         4.         1.        ]\n",
      " [0.         1.66666667 1.66666667]\n",
      " [0.         0.         1.        ]]\n",
      "True\n"
     ]
    }
   ],
   "source": [
    "alu = np.array([[2, 3, 2], [1, 3, 2], [3, 4, 1]])\n",
    "P, L, U = linalg.lu(alu)\n",
    "print(P) # Pivot Matrix\n",
    "print(\"+++++++++\")\n",
    "print(L)\n",
    "print(\"+++++++++\")\n",
    "print(U)\n",
    "print(np.allclose(alu - P@ L @ U, np.zeros((3, 3))))"
   ]
  },
  {
   "cell_type": "markdown",
   "metadata": {
    "collapsed": true
   },
   "source": [
    "#### SVD \n",
    "\n",
    "$A = U \\Sigma V^T $\n",
    "\n",
    "where U and V are orthonormal i.e. their columns are orthogonal and unit vectors.\n",
    "\n",
    "U and V are unitary matrices that means $U U^T = I$ and $V V^T = I$\n",
    "\n",
    "https://medium.com/@jonathan_hui/machine-learning-singular-value-decomposition-svd-principal-component-analysis-pca-1d45e885e491\n",
    "\n",
    "        \n",
    "<img src=images/svd.png>"
   ]
  },
  {
   "cell_type": "code",
   "execution_count": 8,
   "metadata": {},
   "outputs": [
    {
     "name": "stdout",
     "output_type": "stream",
     "text": [
      "(2, 2) (2,) (2, 2)\n",
      "[[-0.37879831 -0.92547925]\n",
      " [-0.92547925  0.37879831]]\n",
      "++++++\n",
      "[13.00571713  0.92267115]\n",
      "++++++\n",
      "[[-0.72781132 -0.68577743]\n",
      " [ 0.68577743 -0.72781132]]\n"
     ]
    }
   ],
   "source": [
    "a = np.array([[3, 4],[ 9, 8]])\n",
    "U, s, Vh = linalg.svd(a)\n",
    "print(U.shape,  s.shape, Vh.shape)\n",
    "print(U)\n",
    "print(\"++++++\")\n",
    "print(s)\n",
    "print(\"++++++\")\n",
    "print(Vh)"
   ]
  },
  {
   "cell_type": "code",
   "execution_count": null,
   "metadata": {},
   "outputs": [],
   "source": []
  }
 ],
 "metadata": {
  "kernelspec": {
   "display_name": "Python 3",
   "language": "python",
   "name": "python3"
  },
  "language_info": {
   "codemirror_mode": {
    "name": "ipython",
    "version": 3
   },
   "file_extension": ".py",
   "mimetype": "text/x-python",
   "name": "python",
   "nbconvert_exporter": "python",
   "pygments_lexer": "ipython3",
   "version": "3.7.4"
  },
  "widgets": {
   "state": {},
   "version": "1.1.2"
  }
 },
 "nbformat": 4,
 "nbformat_minor": 2
}
